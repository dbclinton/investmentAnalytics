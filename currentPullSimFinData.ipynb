{
 "cells": [
  {
   "cell_type": "code",
   "execution_count": 3,
   "id": "07c5da9b-474e-454d-a19c-c9a134df3ffd",
   "metadata": {},
   "outputs": [],
   "source": [
    "import simfin as sf\n",
    "import pandas as pd"
   ]
  },
  {
   "cell_type": "code",
   "execution_count": null,
   "id": "950c4cb1-f03b-4016-84a0-24896da9a36d",
   "metadata": {},
   "outputs": [],
   "source": [
    "# Set your SimFin+ API-key for downloading data.\n",
    "sf.set_api_key('')\n",
    "\n",
    "# Set the local directory where data-files are stored.\n",
    "# The directory will be created if it does not already exist.\n",
    "sf.set_data_dir('~/simfin_data/')\n",
    "\n",
    "# Download the data from the SimFin server and load into a Pandas DataFrame.\n",
    "df_derived = sf.load_derived(variant='annual', market='us')\n",
    "df_derived.to_csv('simfin_derived.csv')"
   ]
  },
  {
   "cell_type": "code",
   "execution_count": null,
   "id": "52e293c4-351b-426a-905a-ffe1c2efadc2",
   "metadata": {},
   "outputs": [],
   "source": [
    "# Can be correlated to company IndustryIDs\n",
    "\n",
    "sf.set_data_dir('~/simfin_data/')\n",
    "\n",
    "# Download the data from the SimFin server and load into a Pandas DataFrame.\n",
    "df_sector = sf.load_industries()\n",
    "\n",
    "df_sector.to_csv('simfin_sectors.csv')"
   ]
  },
  {
   "cell_type": "code",
   "execution_count": null,
   "id": "23769cc2-1359-4760-8334-40c0613987cd",
   "metadata": {},
   "outputs": [],
   "source": [
    "# SimFin company IDs\n",
    "\n",
    "sf.set_data_dir('~/simfin_data/')\n",
    "\n",
    "# Download the data from the SimFin server and load into a Pandas DataFrame.\n",
    "df_company = sf.load_companies(market='us')\n",
    "\n",
    "df_company.to_csv('simfin_companies.csv')"
   ]
  },
  {
   "cell_type": "code",
   "execution_count": 2,
   "id": "d65bc728-8b69-4da7-80da-dee61c9c851b",
   "metadata": {},
   "outputs": [
    {
     "name": "stdout",
     "output_type": "stream",
     "text": [
      "Dataset \"us-derived-shareprices-daily\" on disk (3 days old).\n",
      "- Loading from disk ... Done!\n"
     ]
    }
   ],
   "source": [
    "# Share Price Ratios\n",
    "sf.set_api_key('')\n",
    "sf.set_data_dir('~/simfin_data/')\n",
    "\n",
    "# Download the data from the SimFin server and load into a Pandas DataFrame.\n",
    "df_price_ratios = sf.load_derived_shareprices(variant='daily', market='us')\n",
    "\n",
    "df_price_ratios.to_csv('simfin_price_ratios.csv')"
   ]
  },
  {
   "cell_type": "markdown",
   "id": "9e9b994b-3c1f-4835-9fbc-b0cd74034dc4",
   "metadata": {},
   "source": [
    "### Prepare Price Ratio Data:"
   ]
  },
  {
   "cell_type": "code",
   "execution_count": 7,
   "id": "e73a8197-d542-4020-8cea-31dc66bcfcd9",
   "metadata": {},
   "outputs": [],
   "source": [
    "df_price_new = pd.read_csv('simfin_price_ratios.csv')"
   ]
  },
  {
   "cell_type": "code",
   "execution_count": 8,
   "id": "aa9ef1ff-2ac6-425f-9fa3-fd5787fbbe46",
   "metadata": {},
   "outputs": [],
   "source": [
    "temp = df_price_new[['Symbol','Time','SimFinId','Market-Cap','Price to Earnings Ratio (ttm)','Price to Book Value','Book to Market Value']]"
   ]
  },
  {
   "cell_type": "code",
   "execution_count": 1,
   "id": "bec77fe2-b90e-43d8-8c0d-cce04b2da496",
   "metadata": {},
   "outputs": [],
   "source": [
    "# Manually edit index headers \"Ticker\" and \"Date\" and save CSV file. \n",
    "# Alternatively, this will convert to single-level dataframe (where 'data' is the dataframe name):\n",
    "# See: https://datascience.stackexchange.com/questions/55811/getting-stock-data-in-a-discipline-manner-from-yahoo-finance\n",
    "# data.stack().reset_index().rename(index=str, columns={\"level_1\": \"Symbol\"}).sort_values(['Symbol','Date'])\n",
    "# Then import:\n",
    "# df_price_new = pd.read_csv('simfin_price_ratios.csv')"
   ]
  },
  {
   "cell_type": "code",
   "execution_count": 2,
   "id": "cffc930a-c386-4e42-a7e9-94c70bebfe25",
   "metadata": {},
   "outputs": [],
   "source": [
    "# Select useful columns:\n",
    "temp = df_price_new[['Symbol','Time','SimFinId','Market-Cap',\n",
    "                     'Price to Earnings Ratio (ttm)',\n",
    "                     'Price to Book Value','Book to Market Value']]"
   ]
  },
  {
   "cell_type": "code",
   "execution_count": 31,
   "id": "123591b4-5d62-409c-b042-4302406377a8",
   "metadata": {},
   "outputs": [],
   "source": [
    "# Select for only the last report of the year:\n",
    "df_price_ratios2 = temp[temp['Time'].str.contains(\"2022-01-28\")]"
   ]
  },
  {
   "cell_type": "code",
   "execution_count": 32,
   "id": "018e72d5-9cda-42d8-84ce-9e5c77a6afa5",
   "metadata": {},
   "outputs": [
    {
     "data": {
      "text/plain": [
       "(2406, 7)"
      ]
     },
     "execution_count": 32,
     "metadata": {},
     "output_type": "execute_result"
    }
   ],
   "source": [
    "df_price_ratios2.shape"
   ]
  },
  {
   "cell_type": "markdown",
   "id": "f04ee1c8-eb3a-440a-82c3-c7a75e96084e",
   "metadata": {},
   "source": [
    "### Prepare Derived Data:"
   ]
  },
  {
   "cell_type": "code",
   "execution_count": 33,
   "id": "49d9594e-bfb0-483e-bf36-ebc2069d68f0",
   "metadata": {},
   "outputs": [],
   "source": [
    "df_derived = pd.read_csv('simfin_derived.csv')"
   ]
  },
  {
   "cell_type": "code",
   "execution_count": 13,
   "id": "4c50b83e-00ec-489f-ae68-90e4046a9a54",
   "metadata": {},
   "outputs": [],
   "source": [
    "# df_derived = df_derived[['SimFinId','Fiscal Year','Current Ratio','Liabilities to Equity Ratio','Debt Ratio','Dividend Payout Ratio','Earnings Per Share, Diluted','Dividends Per Share','Piotroski F-Score']]"
   ]
  },
  {
   "cell_type": "markdown",
   "id": "34803418-fc67-45d6-9680-20b6f3c9dde8",
   "metadata": {},
   "source": [
    "### Merge dataframes:"
   ]
  },
  {
   "cell_type": "code",
   "execution_count": 34,
   "id": "5210bc97-8ca8-49c2-8bc1-86347bd73c5f",
   "metadata": {},
   "outputs": [],
   "source": [
    "df_company = pd.read_csv('simfin_companies.csv')"
   ]
  },
  {
   "cell_type": "code",
   "execution_count": 35,
   "id": "19764f77-9594-4746-9f82-8b9b1018c91d",
   "metadata": {},
   "outputs": [],
   "source": [
    "# Merge dataframes (you can only merge two at a time)\n",
    "newdf = pd.merge(df_company, df_derived, on='SimFinId')"
   ]
  },
  {
   "cell_type": "code",
   "execution_count": 36,
   "id": "79348703-9e63-49a3-b749-8d60f5360475",
   "metadata": {},
   "outputs": [
    {
     "data": {
      "text/plain": [
       "(23505, 35)"
      ]
     },
     "execution_count": 36,
     "metadata": {},
     "output_type": "execute_result"
    }
   ],
   "source": [
    "newdf.shape"
   ]
  },
  {
   "cell_type": "code",
   "execution_count": 37,
   "id": "d0ee8cb1-ef24-4f43-8566-64f50cd069d9",
   "metadata": {},
   "outputs": [],
   "source": [
    "newdf = pd.merge(newdf, df_price_ratios2, on='SimFinId')"
   ]
  },
  {
   "cell_type": "code",
   "execution_count": 38,
   "id": "f2e231ca-1d93-4bda-a74a-8879be87b466",
   "metadata": {},
   "outputs": [],
   "source": [
    "newdf = newdf.rename(columns={'Time': 'Report Date'})"
   ]
  },
  {
   "cell_type": "code",
   "execution_count": 39,
   "id": "ac9da1f8-f9cd-4caa-8094-402a3274f84d",
   "metadata": {},
   "outputs": [],
   "source": [
    "newdf.to_csv('Current_Data.csv')"
   ]
  },
  {
   "cell_type": "code",
   "execution_count": 40,
   "id": "830c9ea5-56ad-4bd8-b09a-d238767f4e05",
   "metadata": {},
   "outputs": [],
   "source": [
    "# Import pre-build CSV:\n",
    "newdf = pd.read_csv('Current_Data.csv')"
   ]
  },
  {
   "cell_type": "code",
   "execution_count": 41,
   "id": "a78c14c6-e711-48f2-a04f-c2dcc5932dca",
   "metadata": {},
   "outputs": [],
   "source": [
    "# convert float to object where necessary:\n",
    "newdf[\"IndustryId\"] = newdf.IndustryId.astype(object)\n",
    "newdf[\"SimFinId\"] = newdf.SimFinId.astype(object)"
   ]
  },
  {
   "cell_type": "code",
   "execution_count": 50,
   "id": "44456c7d-f546-4a5e-866e-56151dc2527a",
   "metadata": {},
   "outputs": [],
   "source": [
    "# Profile: Liabilities to Equity\n",
    "df_temp = newdf[newdf['Report Date'].str.contains(\"2012-12-31\")]\n",
    "# metrics:\n",
    "df_temp = df_temp[df_temp['Piotroski F-Score'].between(7, 9)\n",
    "                  #& df_temp['Price to Earnings Ratio (ttm)'].between(-6000, -75)\n",
    "                 # & df_temp['Price to Book Value'].between(-500, -3)\n",
    "                 # & df_temp['Book to Market Value'].between(2, 300)\n",
    "                 # & df_temp['Dividend Payout Ratio'].between(9, 15)\n",
    "                 # & df_temp['Earnings Per Share, Diluted'].between(15, 50)\n",
    "                 # & df_temp['Current Ratio'].between(8, 1000)\n",
    "                  & df_temp['Liabilities to Equity Ratio'].between(-500, .5)\n",
    "                 # & df_temp['Debt Ratio'].between(-30, .01)\n",
    "                 ]\n",
    "# Drop multiple rows belonging to a single stock:\n",
    "df_temp = df_temp.drop_duplicates(['Symbol'])\n",
    "df_temp.shape\n",
    "df_temp['Symbol'].to_csv('Jan_30_2022_symbols_L2E.csv', index=False)"
   ]
  },
  {
   "cell_type": "code",
   "execution_count": null,
   "id": "2ef16452-2811-4e85-9546-6e3bd42797c5",
   "metadata": {},
   "outputs": [],
   "source": []
  },
  {
   "cell_type": "code",
   "execution_count": null,
   "id": "723c2e5d-f3eb-4078-bf7f-f5a27c219fec",
   "metadata": {},
   "outputs": [],
   "source": []
  }
 ],
 "metadata": {
  "kernelspec": {
   "display_name": "Python 3 (ipykernel)",
   "language": "python",
   "name": "python3"
  },
  "language_info": {
   "codemirror_mode": {
    "name": "ipython",
    "version": 3
   },
   "file_extension": ".py",
   "mimetype": "text/x-python",
   "name": "python",
   "nbconvert_exporter": "python",
   "pygments_lexer": "ipython3",
   "version": "3.8.10"
  }
 },
 "nbformat": 4,
 "nbformat_minor": 5
}
