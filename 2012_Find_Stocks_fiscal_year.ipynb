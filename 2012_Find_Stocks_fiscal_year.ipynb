{
 "cells": [
  {
   "cell_type": "code",
   "execution_count": 1,
   "id": "b9aaf8a2-68e3-40e6-9009-d778060c1b58",
   "metadata": {},
   "outputs": [],
   "source": [
    "import pandas as pd\n",
    "# Import pre-build CSV:\n",
    "newdf = pd.read_csv('../Final_Data.csv')\n",
    "newdf = newdf.rename(columns={'Fiscal Year': 'f_year'})"
   ]
  },
  {
   "cell_type": "code",
   "execution_count": 2,
   "id": "d941a88c-d53e-482d-97f9-eb5656912307",
   "metadata": {},
   "outputs": [],
   "source": [
    "# convert float to object where necessary:\n",
    "newdf[\"IndustryId\"] = newdf.IndustryId.astype(object)\n",
    "newdf[\"SimFinId\"] = newdf.SimFinId.astype(object)"
   ]
  },
  {
   "cell_type": "code",
   "execution_count": 3,
   "id": "38d894ca-ee24-4654-a1bc-d9db158bc499",
   "metadata": {},
   "outputs": [
    {
     "data": {
      "text/plain": [
       "(18910, 19)"
      ]
     },
     "execution_count": 3,
     "metadata": {},
     "output_type": "execute_result"
    }
   ],
   "source": [
    "df_temp = newdf[newdf['Report Date'].str.contains(\"2012-12-31\")]\n",
    "df_temp.shape"
   ]
  },
  {
   "cell_type": "markdown",
   "id": "25e48d30-39d9-4468-9439-a07bf071157e",
   "metadata": {},
   "source": [
    "### Assess the Metrics:"
   ]
  },
  {
   "cell_type": "code",
   "execution_count": null,
   "id": "1eb90073-b20e-4754-8520-6e35045d966b",
   "metadata": {},
   "outputs": [],
   "source": [
    "newdf.shape\n",
    "newdf['Piotroski F-Score'].describe()\n",
    "# Select a year:\n",
    "df_temp = newdf[newdf['Report Date'].str.contains(\"2012-12-31\")]\n",
    "# Select one or more metrics:\n",
    "df_temp = df_temp[df_temp['Piotroski F-Score'].between(8, 9)]\n",
    "# Drop multiple rows belonging to a single stock:\n",
    "df_temp = df_temp.drop_duplicates(['Symbol'])\n",
    "df_temp.shape"
   ]
  },
  {
   "cell_type": "markdown",
   "id": "f2357f47-0de1-46b4-8bfa-80c082d9237d",
   "metadata": {},
   "source": [
    "### Build 2012 models:"
   ]
  },
  {
   "cell_type": "code",
   "execution_count": null,
   "id": "16c71c16-095e-491d-b640-df6e0b2354df",
   "metadata": {},
   "outputs": [],
   "source": [
    "# Profile: The Full Basket\n",
    "df_temp = newdf[newdf['Report Date'].str.contains(\"2012-12-31\")]\n",
    "# metrics:\n",
    "df_temp = df_temp[df_temp['Piotroski F-Score'].between(6, 9)\n",
    "                  & df_temp['Price to Earnings Ratio (ttm)'].between(-6000, 10)\n",
    "                  & df_temp['Price to Book Value'].between(-500, 5)\n",
    "                  & df_temp['Book to Market Value'].between(1, 300)\n",
    "                  & df_temp['Dividend Payout Ratio'].between(0, 15)\n",
    "                  & df_temp['Earnings Per Share, Diluted'].between(1, 40)\n",
    "                  & df_temp['Current Ratio'].between(1, 1000)\n",
    "                  & df_temp['Liabilities to Equity Ratio'].between(-500, 10)\n",
    "                  #& df_temp['Debt Ratio'].between(-30, .01)\n",
    "                 ]\n",
    "# Drop multiple rows belonging to a single stock:\n",
    "df_temp = df_temp.drop_duplicates(['Symbol'])\n",
    "df_temp.shape\n",
    "df_temp['Symbol'].to_csv('FullBasket.csv', index=False)"
   ]
  },
  {
   "cell_type": "code",
   "execution_count": null,
   "id": "31501096-2b4d-46b0-bd84-31cfc1ac91d1",
   "metadata": {},
   "outputs": [],
   "source": [
    "# Profile: Market Valuation: P2E\n",
    "df_temp = newdf[newdf['f_year'].astype(str).str.contains(\"2012\")]\n",
    "# metrics:\n",
    "df_temp = df_temp[df_temp['Piotroski F-Score'].between(7, 9)\n",
    "                  & df_temp['Price to Earnings Ratio (ttm)'].between(-6000, -350)\n",
    "                 # & df_temp['Price to Book Value'].between(-500, -1)\n",
    "                 # & df_temp['Book to Market Value'].between(3, 300)\n",
    "                 # & df_temp['Dividend Payout Ratio'].between(9, 15)\n",
    "                 # & df_temp['Earnings Per Share, Diluted'].between(25, 40)\n",
    "                 # & df_temp['Current Ratio'].between(25, 1000)\n",
    "                 # & df_temp['Liabilities to Equity Ratio'].between(-500, -100)\n",
    "                 # & df_temp['Debt Ratio'].between(-30, .01)\n",
    "                 ]\n",
    "# Drop multiple rows belonging to a single stock:\n",
    "df_temp = df_temp.drop_duplicates(['Symbol'])\n",
    "df_temp.shape\n",
    "df_temp['Symbol'].to_csv('f_P2E_F7.csv', index=False)"
   ]
  },
  {
   "cell_type": "code",
   "execution_count": null,
   "id": "6c5587c3-b9ed-43bd-ac1f-bad0931ab9bd",
   "metadata": {},
   "outputs": [],
   "source": [
    "df_temp.shape"
   ]
  },
  {
   "cell_type": "code",
   "execution_count": null,
   "id": "9ea8ece7-0c21-42db-9cf9-c851ae59ad76",
   "metadata": {},
   "outputs": [],
   "source": [
    "# Profile: Market Valuation: P2B\n",
    "df_temp = newdf[newdf['f_year'].astype(str).str.contains(\"2012\")]\n",
    "# metrics:\n",
    "df_temp = df_temp[df_temp['Piotroski F-Score'].between(7, 9)\n",
    "                  #& df_temp['Price to Earnings Ratio (ttm)'].between(-6000, -75)\n",
    "                  & df_temp['Price to Book Value'].between(-500, -6)\n",
    "                 # & df_temp['Book to Market Value'].between(3, 300)\n",
    "                 # & df_temp['Dividend Payout Ratio'].between(9, 15)\n",
    "                 # & df_temp['Earnings Per Share, Diluted'].between(25, 40)\n",
    "                 # & df_temp['Current Ratio'].between(25, 1000)\n",
    "                 # & df_temp['Liabilities to Equity Ratio'].between(-500, -100)\n",
    "                 # & df_temp['Debt Ratio'].between(-30, .01)\n",
    "                 ]\n",
    "# Drop multiple rows belonging to a single stock:\n",
    "df_temp = df_temp.drop_duplicates(['Symbol'])\n",
    "df_temp.shape\n",
    "df_temp['Symbol'].to_csv('f_P2B_F7.csv', index=False)"
   ]
  },
  {
   "cell_type": "code",
   "execution_count": null,
   "id": "5865ffff-f6d1-42de-9457-70ee9f541200",
   "metadata": {},
   "outputs": [],
   "source": [
    "# Profile: Market Valuation: B2M\n",
    "df_temp = newdf[newdf['f_year'].astype(str).str.contains(\"2012\")]\n",
    "# metrics:\n",
    "df_temp = df_temp[df_temp['Piotroski F-Score'].between(7, 9)\n",
    "                  #& df_temp['Price to Earnings Ratio (ttm)'].between(-6000, -75)\n",
    "                 # & df_temp['Price to Book Value'].between(-500, -3)\n",
    "                  & df_temp['Book to Market Value'].between(2, 300)\n",
    "                 # & df_temp['Dividend Payout Ratio'].between(9, 15)\n",
    "                 # & df_temp['Earnings Per Share, Diluted'].between(25, 40)\n",
    "                 # & df_temp['Current Ratio'].between(25, 1000)\n",
    "                 # & df_temp['Liabilities to Equity Ratio'].between(-500, -100)\n",
    "                 # & df_temp['Debt Ratio'].between(-30, .01)\n",
    "                 ]\n",
    "# Drop multiple rows belonging to a single stock:\n",
    "df_temp = df_temp.drop_duplicates(['Symbol'])\n",
    "df_temp.shape\n",
    "df_temp['Symbol'].to_csv('f_B2M_F7.csv', index=False)"
   ]
  },
  {
   "cell_type": "code",
   "execution_count": null,
   "id": "d5438913-fce8-45c7-886c-b6767bab7a40",
   "metadata": {},
   "outputs": [],
   "source": [
    "# Profile: EPS\n",
    "df_temp = newdf[newdf['f_year'].astype(str).str.contains(\"2012\")]\n",
    "# metrics:\n",
    "df_temp = df_temp[df_temp['Piotroski F-Score'].between(7, 9)\n",
    "                  #& df_temp['Price to Earnings Ratio (ttm)'].between(-6000, -75)\n",
    "                 # & df_temp['Price to Book Value'].between(-500, -3)\n",
    "                 # & df_temp['Book to Market Value'].between(2, 300)\n",
    "                 # & df_temp['Dividend Payout Ratio'].between(9, 15)\n",
    "                  & df_temp['Earnings Per Share, Diluted'].between(5, 50)\n",
    "                 # & df_temp['Current Ratio'].between(25, 1000)\n",
    "                 # & df_temp['Liabilities to Equity Ratio'].between(-500, -100)\n",
    "                 # & df_temp['Debt Ratio'].between(-30, .01)\n",
    "                 ]\n",
    "# Drop multiple rows belonging to a single stock:\n",
    "df_temp = df_temp.drop_duplicates(['Symbol'])\n",
    "df_temp.shape\n",
    "df_temp['Symbol'].to_csv('f_EPS_F7.csv', index=False)"
   ]
  },
  {
   "cell_type": "code",
   "execution_count": null,
   "id": "3e8fda40-097b-4e25-bdbe-9d80e178aa8b",
   "metadata": {},
   "outputs": [],
   "source": [
    "# Profile: Current\n",
    "df_temp = newdf[newdf['f_year'].astype(str).str.contains(\"2012\")]\n",
    "# metrics:\n",
    "df_temp = df_temp[df_temp['Piotroski F-Score'].between(7, 9)\n",
    "                  #& df_temp['Price to Earnings Ratio (ttm)'].between(-6000, -75)\n",
    "                 # & df_temp['Price to Book Value'].between(-500, -3)\n",
    "                 # & df_temp['Book to Market Value'].between(2, 300)\n",
    "                 # & df_temp['Dividend Payout Ratio'].between(9, 15)\n",
    "                 # & df_temp['Earnings Per Share, Diluted'].between(15, 50)\n",
    "                  & df_temp['Current Ratio'].between(4, 1000)\n",
    "                 # & df_temp['Liabilities to Equity Ratio'].between(-500, -100)\n",
    "                 # & df_temp['Debt Ratio'].between(-30, .01)\n",
    "                 ]\n",
    "# Drop multiple rows belonging to a single stock:\n",
    "df_temp = df_temp.drop_duplicates(['Symbol'])\n",
    "df_temp.shape\n",
    "df_temp['Symbol'].to_csv('f_current_F7.csv', index=False)"
   ]
  },
  {
   "cell_type": "code",
   "execution_count": null,
   "id": "f06a9f09-5d32-4c50-96bd-210c60d0a9cb",
   "metadata": {},
   "outputs": [],
   "source": [
    "# Profile: Liabilities to Equity\n",
    "df_temp = newdf[newdf['f_year'].astype(str).str.contains(\"2012\")]\n",
    "# metrics:\n",
    "df_temp = df_temp[df_temp['Piotroski F-Score'].between(7, 9)\n",
    "                  #& df_temp['Price to Earnings Ratio (ttm)'].between(-6000, -75)\n",
    "                 # & df_temp['Price to Book Value'].between(-500, -3)\n",
    "                 # & df_temp['Book to Market Value'].between(2, 300)\n",
    "                 # & df_temp['Dividend Payout Ratio'].between(9, 15)\n",
    "                 # & df_temp['Earnings Per Share, Diluted'].between(15, 50)\n",
    "                 # & df_temp['Current Ratio'].between(8, 1000)\n",
    "                 & df_temp['Liabilities to Equity Ratio'].between(-500, .3)\n",
    "                 # & df_temp['Debt Ratio'].between(-30, .01)\n",
    "                 ]\n",
    "# Drop multiple rows belonging to a single stock:\n",
    "df_temp = df_temp.drop_duplicates(['Symbol'])\n",
    "df_temp.shape\n",
    "df_temp['Symbol'].to_csv('f_L2E_F7.csv', index=False)"
   ]
  },
  {
   "cell_type": "code",
   "execution_count": null,
   "id": "f368f682-c86d-4983-9891-47c53ec47c43",
   "metadata": {},
   "outputs": [],
   "source": [
    "# Profile: Debt Ratio\n",
    "df_temp = newdf[newdf['f_year'].astype(str).str.contains(\"2012\")]\n",
    "# metrics:\n",
    "df_temp = df_temp[df_temp['Piotroski F-Score'].between(8, 9)\n",
    "                  #& df_temp['Price to Earnings Ratio (ttm)'].between(-6000, -75)\n",
    "                 # & df_temp['Price to Book Value'].between(-500, -3)\n",
    "                 # & df_temp['Book to Market Value'].between(2, 300)\n",
    "                 # & df_temp['Dividend Payout Ratio'].between(9, 15)\n",
    "                 # & df_temp['Earnings Per Share, Diluted'].between(15, 50)\n",
    "                 # & df_temp['Current Ratio'].between(8, 1000)\n",
    "                 # & df_temp['Liabilities to Equity Ratio'].between(-500, -30)\n",
    "                  & df_temp['Debt Ratio'].between(-30, .0001)\n",
    "                 ]\n",
    "# Drop multiple rows belonging to a single stock:\n",
    "df_temp = df_temp.drop_duplicates(['Symbol'])\n",
    "#df_temp.shape\n",
    "df_temp['Symbol'].to_csv('out/DebtRatio_F8.csv', index=False)"
   ]
  }
 ],
 "metadata": {
  "kernelspec": {
   "display_name": "Python 3 (ipykernel)",
   "language": "python",
   "name": "python3"
  },
  "language_info": {
   "codemirror_mode": {
    "name": "ipython",
    "version": 3
   },
   "file_extension": ".py",
   "mimetype": "text/x-python",
   "name": "python",
   "nbconvert_exporter": "python",
   "pygments_lexer": "ipython3",
   "version": "3.8.10"
  }
 },
 "nbformat": 4,
 "nbformat_minor": 5
}
