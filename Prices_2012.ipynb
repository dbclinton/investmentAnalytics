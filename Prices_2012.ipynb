{
 "cells": [
  {
   "cell_type": "code",
   "execution_count": null,
   "id": "42bf7e32-4620-42c2-a253-8dfb70fbfd75",
   "metadata": {},
   "outputs": [],
   "source": [
    "# See: https://www.learndatasci.com/tutorials/python-finance-part-yahoo-finance-api-pandas-matplotlib/"
   ]
  },
  {
   "cell_type": "code",
   "execution_count": 1,
   "id": "5e565376-2a07-40b6-95c4-8705614e8147",
   "metadata": {},
   "outputs": [],
   "source": [
    "import datetime\n",
    "import yfinance as yf \n",
    "import pandas as pd"
   ]
  },
  {
   "cell_type": "markdown",
   "id": "e9994d16-7a96-41c5-95e2-de1bc9f3f399",
   "metadata": {},
   "source": [
    "### Get Prices:"
   ]
  },
  {
   "cell_type": "code",
   "execution_count": 3,
   "id": "2c4da0d6-dad9-4fc9-a5c9-c8486cedfc63",
   "metadata": {},
   "outputs": [
    {
     "name": "stdout",
     "output_type": "stream",
     "text": [
      "[*********************100%***********************]  9 of 9 completed\n"
     ]
    }
   ],
   "source": [
    "# B2M 2012:\n",
    "start_date = '2012-12-02'\n",
    "end_date = '2012-12-02'\n",
    "# Set the ticker\n",
    "tickers = ['BBGI','BGFV','CENT','KSPN','M','NRG',\n",
    "           'RIG','SGA','SXC']\n",
    "# Get the data\n",
    "data_start = yf.download(tickers, start_date, end_date, interval='3mo')"
   ]
  },
  {
   "cell_type": "code",
   "execution_count": 4,
   "id": "3b3514e7-4235-49cb-b3ec-52ac57b702a3",
   "metadata": {},
   "outputs": [
    {
     "name": "stdout",
     "output_type": "stream",
     "text": [
      "[*********************100%***********************]  9 of 9 completed\n"
     ]
    }
   ],
   "source": [
    "# B2M 2021:\n",
    "start_date = '2021-12-02'\n",
    "end_date = '2021-12-02'\n",
    "# Set the ticker\n",
    "tickers = ['BBGI','BGFV','CENT','KSPN','M','NRG',\n",
    "           'RIG','SGA','SXC']\n",
    "# Get the data\n",
    "data_end = yf.download(tickers, start_date, end_date, interval='3mo')"
   ]
  },
  {
   "cell_type": "code",
   "execution_count": 5,
   "id": "82640e3c-5ae4-4512-ae1f-0ba507d40132",
   "metadata": {},
   "outputs": [
    {
     "data": {
      "text/plain": [
       "0.7331645522836563"
      ]
     },
     "execution_count": 5,
     "metadata": {},
     "output_type": "execute_result"
    }
   ],
   "source": [
    "# Calculate rate of change\n",
    "b2m_start = data_start['Close']\n",
    "b2m_start = b2m_start.T\n",
    "\n",
    "b2m_end = data_end['Close']\n",
    "b2m_end = b2m_end.T\n",
    "start = b2m_start[\"2012-12-01\"].mean()\n",
    "end = b2m_end[\"2021-12-01\"].mean()\n",
    "end/start"
   ]
  },
  {
   "cell_type": "code",
   "execution_count": null,
   "id": "32751ea3-aadc-4bff-9501-e899681377b3",
   "metadata": {},
   "outputs": [],
   "source": [
    "420.56/130.38"
   ]
  },
  {
   "cell_type": "code",
   "execution_count": 7,
   "id": "51cdd90f-de63-4f5d-b7e9-d67d2b10d742",
   "metadata": {},
   "outputs": [
    {
     "name": "stdout",
     "output_type": "stream",
     "text": [
      "[*********************100%***********************]  19 of 19 completed\n"
     ]
    }
   ],
   "source": [
    "# P2E 2012:\n",
    "start_date = '2012-12-02'\n",
    "end_date = '2012-12-02'\n",
    "# Set the ticker\n",
    "tickers = ['AXON','BHE','CAR','COKE','DAL','FIS','GFF',\n",
    "           'HURN','IART','ITRI','JOE','OCC','PEGA','PPC','SGA',\n",
    "           'TEX','TTEK','UDR','VFC']\n",
    "# Get the data\n",
    "data_start = yf.download(tickers, start_date, end_date, interval='3mo')"
   ]
  },
  {
   "cell_type": "code",
   "execution_count": 8,
   "id": "9df2c1bd-5fa5-4836-922d-745a8aa82163",
   "metadata": {},
   "outputs": [
    {
     "name": "stdout",
     "output_type": "stream",
     "text": [
      "[*********************100%***********************]  19 of 19 completed\n"
     ]
    }
   ],
   "source": [
    "# P2E 2021:\n",
    "start_date = '2021-12-02'\n",
    "end_date = '2021-12-02'\n",
    "# Set the ticker\n",
    "tickers = ['AXON','BHE','CAR','COKE','DAL','FIS','GFF',\n",
    "           'HURN','IART','ITRI','JOE','OCC','PEGA','PPC','SGA',\n",
    "           'TEX','TTEK','UDR','VFC']\n",
    "# Get the data\n",
    "data_end = yf.download(tickers, start_date, end_date, interval='3mo')"
   ]
  },
  {
   "cell_type": "code",
   "execution_count": 9,
   "id": "81f7544a-5c63-48a9-9c1f-6dc5e3b1c53b",
   "metadata": {},
   "outputs": [
    {
     "data": {
      "text/plain": [
       "4.2029050638447165"
      ]
     },
     "execution_count": 9,
     "metadata": {},
     "output_type": "execute_result"
    }
   ],
   "source": [
    "# Calculate rate of change\n",
    "b2m_start = data_start['Close']\n",
    "b2m_start = b2m_start.T\n",
    "\n",
    "b2m_end = data_end['Close']\n",
    "b2m_end = b2m_end.T\n",
    "start = b2m_start[\"2012-12-01\"].mean()\n",
    "end = b2m_end[\"2021-12-01\"].mean()\n",
    "end/start"
   ]
  },
  {
   "cell_type": "code",
   "execution_count": 10,
   "id": "5c942c1c-c156-4e80-9580-47eea9273bda",
   "metadata": {},
   "outputs": [
    {
     "name": "stdout",
     "output_type": "stream",
     "text": [
      "[*********************100%***********************]  25 of 25 completed\n"
     ]
    }
   ],
   "source": [
    "# P2B 2012:\n",
    "start_date = '2012-12-02'\n",
    "end_date = '2012-12-02'\n",
    "# Set the ticker\n",
    "tickers = ['AZO','CAR','DAL','DENN','EAT','EVC','FICO','HD','HRB','IDXX','IT','LII',\n",
    "           'MAR','MCO','MO','NRG','ORCL','ORLY','SIRI','SOFO','TDG','TEN','TUP',\n",
    "           'UIS','VRSN']\n",
    "# Get the data\n",
    "data_start = yf.download(tickers, start_date, end_date, interval='3mo')"
   ]
  },
  {
   "cell_type": "code",
   "execution_count": 11,
   "id": "f7ae1a01-5374-4476-8d9d-b3a6d8e66469",
   "metadata": {},
   "outputs": [
    {
     "name": "stdout",
     "output_type": "stream",
     "text": [
      "[*********************100%***********************]  25 of 25 completed\n"
     ]
    }
   ],
   "source": [
    "# P2B 2021:\n",
    "start_date = '2021-12-02'\n",
    "end_date = '2021-12-02'\n",
    "# Set the ticker\n",
    "tickers = ['AZO','CAR','DAL','DENN','EAT','EVC','FICO','HD','HRB','IDXX','IT','LII',\n",
    "           'MAR','MCO','MO','NRG','ORCL','ORLY','SIRI','SOFO','TDG','TEN','TUP',\n",
    "           'UIS','VRSN']\n",
    "# Get the data\n",
    "data_end = yf.download(tickers, start_date, end_date, interval='3mo')"
   ]
  },
  {
   "cell_type": "code",
   "execution_count": 12,
   "id": "75f18b7e-cf5c-4f9a-8d9e-0672d071c58a",
   "metadata": {},
   "outputs": [
    {
     "data": {
      "text/plain": [
       "5.5546595770943625"
      ]
     },
     "execution_count": 12,
     "metadata": {},
     "output_type": "execute_result"
    }
   ],
   "source": [
    "# Calculate rate of change\n",
    "b2m_start = data_start['Close']\n",
    "b2m_start = b2m_start.T\n",
    "\n",
    "b2m_end = data_end['Close']\n",
    "b2m_end = b2m_end.T\n",
    "start = b2m_start[\"2012-12-01\"].mean()\n",
    "end = b2m_end[\"2021-12-01\"].mean()\n",
    "end/start"
   ]
  },
  {
   "cell_type": "code",
   "execution_count": 14,
   "id": "3032095c-966d-4d23-9147-16c50c218e8e",
   "metadata": {},
   "outputs": [
    {
     "name": "stdout",
     "output_type": "stream",
     "text": [
      "[*********************100%***********************]  21 of 21 completed\n"
     ]
    }
   ],
   "source": [
    "# L2E 2012:\n",
    "start_date = '2012-12-02'\n",
    "end_date = '2012-12-02'\n",
    "# Set the ticker\n",
    "tickers = ['AZO','BKTI','COR','CRY','DAL','DENN','DMRC','FDS','JOE',\n",
    "           'MAR','MKTX','MPWR','PSA','RAD','RDNT','SEIC','SNCR','SRDX',\n",
    "           'UIS','VRSN','WWE']\n",
    "# Get the data\n",
    "data_start = yf.download(tickers, start_date, end_date, interval='3mo')"
   ]
  },
  {
   "cell_type": "code",
   "execution_count": 15,
   "id": "73ca5d5e-a93f-4b3a-b9ae-08f160ebf1af",
   "metadata": {},
   "outputs": [
    {
     "name": "stdout",
     "output_type": "stream",
     "text": [
      "[*********************100%***********************]  21 of 21 completed\n"
     ]
    }
   ],
   "source": [
    "# L2E 2021:\n",
    "start_date = '2021-12-02'\n",
    "end_date = '2021-12-02'\n",
    "# Set the ticker\n",
    "tickers = ['AZO','BKTI','COR','CRY','DAL','DENN','DMRC','FDS','JOE',\n",
    "           'MAR','MKTX','MPWR','PSA','RAD','RDNT','SEIC','SNCR','SRDX',\n",
    "           'UIS','VRSN','WWE']\n",
    "# Get the data\n",
    "data_end = yf.download(tickers, start_date, end_date, interval='3mo')"
   ]
  },
  {
   "cell_type": "code",
   "execution_count": 16,
   "id": "be1f8e6a-edc0-4d7c-9c7d-bf6f75727995",
   "metadata": {},
   "outputs": [
    {
     "data": {
      "text/plain": [
       "5.1608106058780825"
      ]
     },
     "execution_count": 16,
     "metadata": {},
     "output_type": "execute_result"
    }
   ],
   "source": [
    "# Calculate rate of change\n",
    "b2m_start = data_start['Close']\n",
    "b2m_start = b2m_start.T\n",
    "\n",
    "b2m_end = data_end['Close']\n",
    "b2m_end = b2m_end.T\n",
    "start = b2m_start[\"2012-12-01\"].mean()\n",
    "end = b2m_end[\"2021-12-01\"].mean()\n",
    "end/start"
   ]
  },
  {
   "cell_type": "code",
   "execution_count": null,
   "id": "924e22bf-a1bd-4cd3-a85b-6fbc6f8b2647",
   "metadata": {},
   "outputs": [],
   "source": [
    "b2m_start[\"2012-12-01\"].mean()"
   ]
  },
  {
   "cell_type": "code",
   "execution_count": 19,
   "id": "193ff828-82b1-4ad1-a24f-550f3967df70",
   "metadata": {},
   "outputs": [
    {
     "name": "stdout",
     "output_type": "stream",
     "text": [
      "[*********************100%***********************]  18 of 18 completed\n"
     ]
    }
   ],
   "source": [
    "# EPS 2012:\n",
    "start_date = '2012-12-02'\n",
    "end_date = '2012-12-02'\n",
    "# Set the ticker\n",
    "tickers = ['AZO','CACI','CF','COP','DDS','GE','IO','KSPN','MTD',\n",
    "           'NEU','NOC','NVR','PH','RL','STX','TDG','UTHR',\n",
    "           'XOM']\n",
    "# Get the data\n",
    "data_start = yf.download(tickers, start_date, end_date, interval='3mo')"
   ]
  },
  {
   "cell_type": "code",
   "execution_count": 20,
   "id": "a0a5633b-2b66-45c2-8f7b-fa8a1c574edd",
   "metadata": {},
   "outputs": [
    {
     "name": "stdout",
     "output_type": "stream",
     "text": [
      "[*********************100%***********************]  18 of 18 completed\n"
     ]
    }
   ],
   "source": [
    "# EPS 2021:\n",
    "start_date = '2021-12-02'\n",
    "end_date = '2021-12-02'\n",
    "# Set the ticker\n",
    "tickers = ['AZO','CACI','CF','COP','DDS','GE','IO','KSPN','MTD',\n",
    "           'NEU','NOC','NVR','PH','RL','STX','TDG','UTHR',\n",
    "           'XOM']\n",
    "# Get the data\n",
    "data_end = yf.download(tickers, start_date, end_date, interval='3mo')"
   ]
  },
  {
   "cell_type": "code",
   "execution_count": 21,
   "id": "56fc8159-d51e-4506-bca6-e25806463b91",
   "metadata": {},
   "outputs": [
    {
     "data": {
      "text/plain": [
       "4.357012908050862"
      ]
     },
     "execution_count": 21,
     "metadata": {},
     "output_type": "execute_result"
    }
   ],
   "source": [
    "# Calculate rate of change\n",
    "b2m_start = data_start['Close']\n",
    "b2m_start = b2m_start.T\n",
    "\n",
    "b2m_end = data_end['Close']\n",
    "b2m_end = b2m_end.T\n",
    "start = b2m_start[\"2012-12-01\"].mean()\n",
    "end = b2m_end[\"2021-12-01\"].mean()\n",
    "end/start"
   ]
  },
  {
   "cell_type": "code",
   "execution_count": null,
   "id": "0ed067ad-cffc-4340-8e1a-a2be09ddcd62",
   "metadata": {},
   "outputs": [],
   "source": [
    "b2m_end[\"2021-12-01\"].mean()"
   ]
  },
  {
   "cell_type": "code",
   "execution_count": 23,
   "id": "007056b8-373a-4e7d-a1bd-1a3dcbe57e0e",
   "metadata": {},
   "outputs": [
    {
     "name": "stdout",
     "output_type": "stream",
     "text": [
      "[*********************100%***********************]  20 of 20 completed\n"
     ]
    }
   ],
   "source": [
    "# Current 2012:\n",
    "start_date = '2012-12-02'\n",
    "end_date = '2012-12-02'\n",
    "# Set the ticker\n",
    "tickers = ['ANIK','AXON','BKTI','DMRC','HCCI','IART','ILMN','IONS',\n",
    "           'JOE','MKTX','MLM','MPWR','OCC','SEIC','SMID','SRDX','SYK','SYNA',\n",
    "           'TDG','TER']\n",
    "# Get the data\n",
    "data_start = yf.download(tickers, start_date, end_date, interval='3mo')"
   ]
  },
  {
   "cell_type": "code",
   "execution_count": 24,
   "id": "fd09b5d8-3aed-4d16-8212-9e959a819df5",
   "metadata": {},
   "outputs": [
    {
     "name": "stdout",
     "output_type": "stream",
     "text": [
      "[*********************100%***********************]  20 of 20 completed\n"
     ]
    }
   ],
   "source": [
    "# Current 2021:\n",
    "start_date = '2021-12-02'\n",
    "end_date = '2021-12-02'\n",
    "# Set the ticker\n",
    "tickers = ['ANIK','AXON','BKTI','DMRC','HCCI','IART','ILMN','IONS',\n",
    "           'JOE','MKTX','MLM','MPWR','OCC','SEIC','SMID','SRDX','SYK','SYNA',\n",
    "           'TDG','TER']\n",
    "# Get the data\n",
    "data_end = yf.download(tickers, start_date, end_date, interval='3mo')"
   ]
  },
  {
   "cell_type": "code",
   "execution_count": 25,
   "id": "492b50fd-517b-4c63-851a-e07ec55551a0",
   "metadata": {},
   "outputs": [
    {
     "data": {
      "text/plain": [
       "6.037910510141444"
      ]
     },
     "execution_count": 25,
     "metadata": {},
     "output_type": "execute_result"
    }
   ],
   "source": [
    "# Calculate rate of change\n",
    "b2m_start = data_start['Close']\n",
    "b2m_start = b2m_start.T\n",
    "\n",
    "b2m_end = data_end['Close']\n",
    "b2m_end = b2m_end.T\n",
    "start = b2m_start[\"2012-12-01\"].mean()\n",
    "end = b2m_end[\"2021-12-01\"].mean()\n",
    "end/start"
   ]
  },
  {
   "cell_type": "code",
   "execution_count": null,
   "id": "11f1d0a6-e393-4dbc-a9ef-6635dd2bab9e",
   "metadata": {},
   "outputs": [],
   "source": [
    "# DebtRatio 2012:\n",
    "start_date = '2012-12-02'\n",
    "end_date = '2012-12-02'\n",
    "# Set the ticker\n",
    "tickers = ['AAON','ALGN','ANSS','BBBY','CALX','CMG','CULP','DMRC','ETD','FB','FFIV','HEAR','HTLD',\n",
    "           'ISDR','JKHY','KLIC','KSPN','MASI','MKTX','MMS','MPX','MRVL','MTRX','NAII','NTCT','OII',\n",
    "           'OPRX','OSTK','OSUR','PAYX','PHM','PSSR','RGLD','RGR','RUTH','SAFM','SHOO','SRDX','STRA',\n",
    "           'TAYD','TBI','TBTC','TER','TREX','TYL','URBN','USNA','UTMD','VMW','WIRE','ZBRA']\n",
    "# Get the data\n",
    "data_start = yf.download(tickers, start_date, end_date, interval='3mo')"
   ]
  },
  {
   "cell_type": "code",
   "execution_count": null,
   "id": "32dd28e9-f3e3-4dd5-9d65-4a3f3fceec01",
   "metadata": {},
   "outputs": [],
   "source": [
    "# DebtRatio 2021:\n",
    "start_date = '2021-12-02'\n",
    "end_date = '2021-12-02'\n",
    "# Set the ticker\n",
    "tickers = ['AAON','ALGN','ANSS','BBBY','CALX','CMG','CULP','DMRC','ETD','FB','FFIV','HEAR','HTLD',\n",
    "           'ISDR','JKHY','KLIC','KSPN','MASI','MKTX','MMS','MPX','MRVL','MTRX','NAII','NTCT','OII',\n",
    "           'OPRX','OSTK','OSUR','PAYX','PHM','PSSR','RGLD','RGR','RUTH','SAFM','SHOO','SRDX','STRA',\n",
    "           'TAYD','TBI','TBTC','TER','TREX','TYL','URBN','USNA','UTMD','VMW','WIRE','ZBRA']\n",
    "# Get the data\n",
    "data_end = yf.download(tickers, start_date, end_date, interval='3mo')"
   ]
  },
  {
   "cell_type": "code",
   "execution_count": null,
   "id": "64c89da1-fbaf-47ce-9d64-c47e9e41e466",
   "metadata": {},
   "outputs": [],
   "source": [
    "# Calculate rate of change\n",
    "b2m_start = data_start['Close']\n",
    "b2m_start = b2m_start.T\n",
    "\n",
    "b2m_end = data_end['Close']\n",
    "b2m_end = b2m_end.T\n",
    "start = b2m_start[\"2012-12-01\"].mean()\n",
    "end = b2m_end[\"2021-12-01\"].mean()\n",
    "end/start"
   ]
  },
  {
   "cell_type": "code",
   "execution_count": null,
   "id": "371a4bc7-9035-4219-8b0e-84756c891bf4",
   "metadata": {},
   "outputs": [],
   "source": [
    "b2m_end[\"2021-12-01\"].mean()"
   ]
  },
  {
   "cell_type": "code",
   "execution_count": null,
   "id": "c1f684e7-51fc-417f-b09e-42a6c8c7077a",
   "metadata": {},
   "outputs": [],
   "source": [
    "4577.10/1409.5"
   ]
  },
  {
   "cell_type": "markdown",
   "id": "cddfcd54-c297-48b5-9ecd-e059977e6a9f",
   "metadata": {},
   "source": [
    "### Presentation:"
   ]
  },
  {
   "cell_type": "code",
   "execution_count": 32,
   "id": "3a3c4797-886e-4374-8acb-6139469b2bb0",
   "metadata": {},
   "outputs": [],
   "source": [
    "df = pd.read_csv('fiscal_symbols/final.csv')"
   ]
  },
  {
   "cell_type": "code",
   "execution_count": 33,
   "id": "e7b64d2a-ba03-45bd-bd42-aaede35f2787",
   "metadata": {},
   "outputs": [
    {
     "data": {
      "text/html": [
       "<div>\n",
       "<style scoped>\n",
       "    .dataframe tbody tr th:only-of-type {\n",
       "        vertical-align: middle;\n",
       "    }\n",
       "\n",
       "    .dataframe tbody tr th {\n",
       "        vertical-align: top;\n",
       "    }\n",
       "\n",
       "    .dataframe thead th {\n",
       "        text-align: right;\n",
       "    }\n",
       "</style>\n",
       "<table border=\"1\" class=\"dataframe\">\n",
       "  <thead>\n",
       "    <tr style=\"text-align: right;\">\n",
       "      <th></th>\n",
       "      <th>Metric</th>\n",
       "      <th>Change(%)</th>\n",
       "    </tr>\n",
       "  </thead>\n",
       "  <tbody>\n",
       "    <tr>\n",
       "      <th>0</th>\n",
       "      <td>B2M_F7</td>\n",
       "      <td>73</td>\n",
       "    </tr>\n",
       "    <tr>\n",
       "      <th>1</th>\n",
       "      <td>EPS_F7</td>\n",
       "      <td>435</td>\n",
       "    </tr>\n",
       "    <tr>\n",
       "      <th>2</th>\n",
       "      <td>L2E_F7</td>\n",
       "      <td>516</td>\n",
       "    </tr>\n",
       "    <tr>\n",
       "      <th>3</th>\n",
       "      <td>P2B_F7</td>\n",
       "      <td>555</td>\n",
       "    </tr>\n",
       "    <tr>\n",
       "      <th>4</th>\n",
       "      <td>P2E_F7</td>\n",
       "      <td>420</td>\n",
       "    </tr>\n",
       "    <tr>\n",
       "      <th>5</th>\n",
       "      <td>current_F7</td>\n",
       "      <td>604</td>\n",
       "    </tr>\n",
       "    <tr>\n",
       "      <th>6</th>\n",
       "      <td>S&amp;P (VOO)</td>\n",
       "      <td>322</td>\n",
       "    </tr>\n",
       "    <tr>\n",
       "      <th>7</th>\n",
       "      <td>S&amp;P (GSPC)</td>\n",
       "      <td>324</td>\n",
       "    </tr>\n",
       "  </tbody>\n",
       "</table>\n",
       "</div>"
      ],
      "text/plain": [
       "       Metric  Change(%)\n",
       "0      B2M_F7         73\n",
       "1      EPS_F7        435\n",
       "2      L2E_F7        516\n",
       "3      P2B_F7        555\n",
       "4      P2E_F7        420\n",
       "5  current_F7        604\n",
       "6   S&P (VOO)        322\n",
       "7  S&P (GSPC)        324"
      ]
     },
     "execution_count": 33,
     "metadata": {},
     "output_type": "execute_result"
    }
   ],
   "source": [
    "df"
   ]
  },
  {
   "cell_type": "code",
   "execution_count": 34,
   "id": "9db9e8f1-ea3b-4cde-9468-366d9e14bb4e",
   "metadata": {},
   "outputs": [],
   "source": [
    "df.set_index(\"Metric\",drop=True,inplace=True)"
   ]
  },
  {
   "cell_type": "code",
   "execution_count": 35,
   "id": "e6c5fd5e-6258-42b9-abd8-e7321a2db470",
   "metadata": {},
   "outputs": [
    {
     "data": {
      "text/plain": [
       "<AxesSubplot:xlabel='Metric'>"
      ]
     },
     "execution_count": 35,
     "metadata": {},
     "output_type": "execute_result"
    },
    {
     "data": {
      "image/png": "[encoded data removed]",
      "text/plain": [
       "<Figure size 432x288 with 1 Axes>"
      ]
     },
     "metadata": {
      "needs_background": "light"
     },
     "output_type": "display_data"
    }
   ],
   "source": [
    "df.plot(kind=\"bar\",rot=45)"
   ]
  },
  {
   "cell_type": "code",
   "execution_count": null,
   "id": "11b725fd-a478-42c6-af4d-995018914fcb",
   "metadata": {},
   "outputs": [],
   "source": []
  },
  {
   "cell_type": "markdown",
   "id": "863f45ed-83a1-4b00-bfa6-d19373fb2096",
   "metadata": {},
   "source": [
    "### Old Code:"
   ]
  },
  {
   "cell_type": "code",
   "execution_count": null,
   "id": "014272c9-2901-437b-9741-85941357c335",
   "metadata": {},
   "outputs": [],
   "source": [
    "df = data.stack().reset_index().rename(index=str, columns={\"level_1\": \"Symbol\"}).sort_values(['Symbol','Date'])"
   ]
  },
  {
   "cell_type": "code",
   "execution_count": null,
   "id": "c904442d-e89d-4259-8b30-13c178651d7e",
   "metadata": {},
   "outputs": [],
   "source": [
    "df.T"
   ]
  },
  {
   "cell_type": "code",
   "execution_count": null,
   "id": "8c1e3959-2870-4f91-bd92-863fd11f985a",
   "metadata": {},
   "outputs": [],
   "source": [
    "df = df[['Date','Symbol','Adj Close']]"
   ]
  },
  {
   "cell_type": "code",
   "execution_count": null,
   "id": "3b1897c9-7dde-4f3a-b538-2e33cb054e3e",
   "metadata": {},
   "outputs": [],
   "source": []
  },
  {
   "cell_type": "code",
   "execution_count": null,
   "id": "ba5bead0-8bce-4ef6-be8f-6af3c08c0369",
   "metadata": {},
   "outputs": [],
   "source": [
    "df1 = df[df['Symbol'].str.contains(\"MOV\")]"
   ]
  },
  {
   "cell_type": "code",
   "execution_count": null,
   "id": "c8afa82f-a12d-40dd-a33a-14465246d693",
   "metadata": {},
   "outputs": [],
   "source": [
    "df2 = df1.T"
   ]
  },
  {
   "cell_type": "code",
   "execution_count": null,
   "id": "81357edc-eedd-402f-8ca8-55962c7a4e6c",
   "metadata": {},
   "outputs": [],
   "source": [
    "df"
   ]
  },
  {
   "cell_type": "code",
   "execution_count": null,
   "id": "50ed7077-b636-4283-ba38-38ec80fb342f",
   "metadata": {},
   "outputs": [],
   "source": []
  },
  {
   "cell_type": "code",
   "execution_count": null,
   "id": "95303c26-4a6d-433f-ada4-90122f890f8b",
   "metadata": {},
   "outputs": [],
   "source": []
  },
  {
   "cell_type": "code",
   "execution_count": null,
   "id": "7c36d66f-005e-4b37-8ceb-3a0c8e1f8ead",
   "metadata": {},
   "outputs": [],
   "source": []
  },
  {
   "cell_type": "code",
   "execution_count": null,
   "id": "f0d5ae2d-8dee-4fd3-951e-9c042ba69bf9",
   "metadata": {},
   "outputs": [],
   "source": []
  }
 ],
 "metadata": {
  "kernelspec": {
   "display_name": "Python 3 (ipykernel)",
   "language": "python",
   "name": "python3"
  },
  "language_info": {
   "codemirror_mode": {
    "name": "ipython",
    "version": 3
   },
   "file_extension": ".py",
   "mimetype": "text/x-python",
   "name": "python",
   "nbconvert_exporter": "python",
   "pygments_lexer": "ipython3",
   "version": "3.8.10"
  }
 },
 "nbformat": 4,
 "nbformat_minor": 5
}
